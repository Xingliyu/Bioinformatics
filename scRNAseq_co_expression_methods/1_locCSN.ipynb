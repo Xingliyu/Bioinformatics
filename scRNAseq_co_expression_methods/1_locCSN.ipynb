{
 "cells": [
  {
   "cell_type": "markdown",
   "metadata": {
    "id": "p-gWmLeZpzav"
   },
   "source": [
    "## 1. Import Library"
   ]
  },
  {
   "cell_type": "code",
   "execution_count": 8,
   "metadata": {
    "id": "rinT1SUmlj64"
   },
   "outputs": [],
   "source": [
    "import pandas as pd\n",
    "import numpy as np\n",
    "import anndata\n",
    "import scanpy as sc\n",
    "import locCSN\n",
    "import matplotlib.pyplot as plt\n",
    "# print(python.__version__)"
   ]
  },
  {
   "cell_type": "markdown",
   "metadata": {
    "id": "SvNOh4BJkmg9"
   },
   "source": [
    "## 2. Load data "
   ]
  },
  {
   "cell_type": "code",
   "execution_count": 3,
   "metadata": {},
   "outputs": [],
   "source": [
    "adata_Fib = sc.read('PDAC_Fibroblast.h5ad') "
   ]
  },
  {
   "cell_type": "code",
   "execution_count": 4,
   "metadata": {},
   "outputs": [
    {
     "data": {
      "text/plain": [
       "AnnData object with n_obs × n_vars = 6713 × 23375\n",
       "    obs: 'cluster', 'n_genes_by_counts', 'log1p_n_genes_by_counts', 'total_counts', 'log1p_total_counts', 'pct_counts_in_top_50_genes', 'pct_counts_in_top_100_genes', 'pct_counts_in_top_200_genes', 'pct_counts_in_top_500_genes', 'total_counts_mt', 'log1p_total_counts_mt', 'pct_counts_mt', 'percent_mito', 'n_counts', 'percent_ribo', 'n_genes'\n",
       "    var: 'mt', 'n_cells_by_counts', 'mean_counts', 'log1p_mean_counts', 'pct_dropout_by_counts', 'total_counts', 'log1p_total_counts', 'n_cells', 'total_expression'\n",
       "    uns: 'cluster_colors', 'rank_genes_groups'"
      ]
     },
     "execution_count": 4,
     "metadata": {},
     "output_type": "execute_result"
    }
   ],
   "source": [
    "adata_Fib"
   ]
  },
  {
   "cell_type": "code",
   "execution_count": 12,
   "metadata": {},
   "outputs": [],
   "source": [
    "Fibroblast_general = [\"FAP\", \"LUM\", \"DCN\", \"PDPN\", \"COL1A1\", \"MFAP4\"]  \n",
    "iCAFs = [\"IL6\", \"IL11\", \"LIF\", \"CXCL1\", \"CXCL8\", \"SOD2\", \"HAS1\", \"MT2A\"]\n",
    "myCAFs = [\"ACTA2\", \"TAGLN\", \"TPM2\", \"MYLK\", \"MYL9\", \"MYH11\", \"ACTG2\", \"POSTN\", \"SDC1\", \"MMP11\", \"CTHRC1\"]"
   ]
  },
  {
   "cell_type": "code",
   "execution_count": 13,
   "metadata": {},
   "outputs": [
    {
     "data": {
      "text/plain": [
       "19"
      ]
     },
     "execution_count": 13,
     "metadata": {},
     "output_type": "execute_result"
    }
   ],
   "source": [
    "all_genes = Fibroblast_general + iCAFs + myCAFs\n",
    "all_genes.remove('CXCL8')\n",
    "all_genes.remove(\"IL6\")\n",
    "all_genes.remove(\"IL11\")\n",
    "all_genes.remove(\"LIF\")\n",
    "all_genes.remove(\"MYH11\")\n",
    "all_genes.remove(\"CXCL1\")\n",
    "len(all_genes)"
   ]
  },
  {
   "cell_type": "code",
   "execution_count": 7,
   "metadata": {},
   "outputs": [
    {
     "data": {
      "text/plain": [
       "View of AnnData object with n_obs × n_vars = 6713 × 19\n",
       "    obs: 'cluster', 'n_genes_by_counts', 'log1p_n_genes_by_counts', 'total_counts', 'log1p_total_counts', 'pct_counts_in_top_50_genes', 'pct_counts_in_top_100_genes', 'pct_counts_in_top_200_genes', 'pct_counts_in_top_500_genes', 'total_counts_mt', 'log1p_total_counts_mt', 'pct_counts_mt', 'percent_mito', 'n_counts', 'percent_ribo', 'n_genes'\n",
       "    var: 'mt', 'n_cells_by_counts', 'mean_counts', 'log1p_mean_counts', 'pct_dropout_by_counts', 'total_counts', 'log1p_total_counts', 'n_cells', 'total_expression'\n",
       "    uns: 'cluster_colors', 'rank_genes_groups'"
      ]
     },
     "execution_count": 7,
     "metadata": {},
     "output_type": "execute_result"
    }
   ],
   "source": [
    "adata_Fib_maker_genes = adata_Fib[:, all_genes]\n",
    "adata_Fib_maker_genes"
   ]
  },
  {
   "cell_type": "code",
   "execution_count": 8,
   "metadata": {},
   "outputs": [
    {
     "data": {
      "text/html": [
       "<div>\n",
       "<style scoped>\n",
       "    .dataframe tbody tr th:only-of-type {\n",
       "        vertical-align: middle;\n",
       "    }\n",
       "\n",
       "    .dataframe tbody tr th {\n",
       "        vertical-align: top;\n",
       "    }\n",
       "\n",
       "    .dataframe thead th {\n",
       "        text-align: right;\n",
       "    }\n",
       "</style>\n",
       "<table border=\"1\" class=\"dataframe\">\n",
       "  <thead>\n",
       "    <tr style=\"text-align: right;\">\n",
       "      <th></th>\n",
       "      <th>mt</th>\n",
       "      <th>n_cells_by_counts</th>\n",
       "      <th>mean_counts</th>\n",
       "      <th>log1p_mean_counts</th>\n",
       "      <th>pct_dropout_by_counts</th>\n",
       "      <th>total_counts</th>\n",
       "      <th>log1p_total_counts</th>\n",
       "      <th>n_cells</th>\n",
       "      <th>total_expression</th>\n",
       "    </tr>\n",
       "    <tr>\n",
       "      <th>Unnamed: 0</th>\n",
       "      <th></th>\n",
       "      <th></th>\n",
       "      <th></th>\n",
       "      <th></th>\n",
       "      <th></th>\n",
       "      <th></th>\n",
       "      <th></th>\n",
       "      <th></th>\n",
       "      <th></th>\n",
       "    </tr>\n",
       "  </thead>\n",
       "  <tbody>\n",
       "    <tr>\n",
       "      <th>FAP</th>\n",
       "      <td>False</td>\n",
       "      <td>7260</td>\n",
       "      <td>0.258613</td>\n",
       "      <td>0.230010</td>\n",
       "      <td>87.380497</td>\n",
       "      <td>14878.0</td>\n",
       "      <td>9.607706</td>\n",
       "      <td>7260</td>\n",
       "      <td>14365.0</td>\n",
       "    </tr>\n",
       "    <tr>\n",
       "      <th>LUM</th>\n",
       "      <td>False</td>\n",
       "      <td>23015</td>\n",
       "      <td>9.215974</td>\n",
       "      <td>2.323953</td>\n",
       "      <td>59.994785</td>\n",
       "      <td>530195.0</td>\n",
       "      <td>13.181002</td>\n",
       "      <td>23015</td>\n",
       "      <td>517771.0</td>\n",
       "    </tr>\n",
       "    <tr>\n",
       "      <th>DCN</th>\n",
       "      <td>False</td>\n",
       "      <td>22334</td>\n",
       "      <td>6.154024</td>\n",
       "      <td>1.967675</td>\n",
       "      <td>61.178516</td>\n",
       "      <td>354041.0</td>\n",
       "      <td>12.777171</td>\n",
       "      <td>22334</td>\n",
       "      <td>347176.0</td>\n",
       "    </tr>\n",
       "    <tr>\n",
       "      <th>PDPN</th>\n",
       "      <td>False</td>\n",
       "      <td>4330</td>\n",
       "      <td>0.151938</td>\n",
       "      <td>0.141446</td>\n",
       "      <td>92.473492</td>\n",
       "      <td>8741.0</td>\n",
       "      <td>9.075894</td>\n",
       "      <td>4330</td>\n",
       "      <td>8399.0</td>\n",
       "    </tr>\n",
       "    <tr>\n",
       "      <th>COL1A1</th>\n",
       "      <td>False</td>\n",
       "      <td>23100</td>\n",
       "      <td>10.224404</td>\n",
       "      <td>2.418090</td>\n",
       "      <td>59.847036</td>\n",
       "      <td>588210.0</td>\n",
       "      <td>13.284841</td>\n",
       "      <td>23100</td>\n",
       "      <td>570798.0</td>\n",
       "    </tr>\n",
       "  </tbody>\n",
       "</table>\n",
       "</div>"
      ],
      "text/plain": [
       "               mt  n_cells_by_counts  mean_counts  log1p_mean_counts  \\\n",
       "Unnamed: 0                                                             \n",
       "FAP         False               7260     0.258613           0.230010   \n",
       "LUM         False              23015     9.215974           2.323953   \n",
       "DCN         False              22334     6.154024           1.967675   \n",
       "PDPN        False               4330     0.151938           0.141446   \n",
       "COL1A1      False              23100    10.224404           2.418090   \n",
       "\n",
       "            pct_dropout_by_counts  total_counts  log1p_total_counts  n_cells  \\\n",
       "Unnamed: 0                                                                     \n",
       "FAP                     87.380497       14878.0            9.607706     7260   \n",
       "LUM                     59.994785      530195.0           13.181002    23015   \n",
       "DCN                     61.178516      354041.0           12.777171    22334   \n",
       "PDPN                    92.473492        8741.0            9.075894     4330   \n",
       "COL1A1                  59.847036      588210.0           13.284841    23100   \n",
       "\n",
       "            total_expression  \n",
       "Unnamed: 0                    \n",
       "FAP                  14365.0  \n",
       "LUM                 517771.0  \n",
       "DCN                 347176.0  \n",
       "PDPN                  8399.0  \n",
       "COL1A1              570798.0  "
      ]
     },
     "execution_count": 8,
     "metadata": {},
     "output_type": "execute_result"
    }
   ],
   "source": [
    "adata_Fib_maker_genes.var.head()"
   ]
  },
  {
   "cell_type": "code",
   "execution_count": 9,
   "metadata": {},
   "outputs": [
    {
     "data": {
      "text/plain": [
       "(6713, 19)"
      ]
     },
     "execution_count": 9,
     "metadata": {},
     "output_type": "execute_result"
    }
   ],
   "source": [
    "adata_Fib_maker_genes.X.shape"
   ]
  },
  {
   "cell_type": "code",
   "execution_count": 10,
   "metadata": {},
   "outputs": [
    {
     "name": "stdout",
     "output_type": "stream",
     "text": [
      "Remaining cells 6713 , Remaining genes 19\n"
     ]
    }
   ],
   "source": [
    "print(\"Remaining cells %d\"%adata_Fib_maker_genes.n_obs,\",\", \"Remaining genes %d\"%adata_Fib_maker_genes.n_vars)"
   ]
  },
  {
   "cell_type": "code",
   "execution_count": null,
   "metadata": {},
   "outputs": [],
   "source": []
  },
  {
   "cell_type": "code",
   "execution_count": 14,
   "metadata": {},
   "outputs": [
    {
     "data": {
      "image/png": "[encoded data removed]",
      "text/plain": [
       "<Figure size 432x432 with 2 Axes>"
      ]
     },
     "metadata": {
      "needs_background": "light"
     },
     "output_type": "display_data"
    }
   ],
   "source": [
    "import seaborn as sns\n",
    "X_Fib = adata_Fib_maker_genes.X.transpose()\n",
    "\n",
    "corr_Fib = np.corrcoef(X_Fib)\n",
    "\n",
    "# np.fill_diagonal(corr_Fib, 0)\n",
    "\n",
    "fig, ax = plt.subplots(figsize=(6,6))\n",
    "\n",
    "sns.heatmap(abs(corr_Fib), vmin=0, vmax=0.7,linewidth = 0.5, cmap='Blues')\n",
    "ax.set_yticklabels(all_genes,rotation=1) \n",
    "ax.set_xticklabels(all_genes,rotation=270) \n",
    "plt.title(\"Absolute Pearson's Correlation\", fontsize = 10, fontweight = \"bold\")\n",
    "plt.savefig('Pearson.png')"
   ]
  },
  {
   "cell_type": "code",
   "execution_count": 5,
   "metadata": {},
   "outputs": [],
   "source": [
    "import pickle as pkl\n",
    "import scipy"
   ]
  },
  {
   "cell_type": "code",
   "execution_count": 4,
   "metadata": {},
   "outputs": [
    {
     "name": "stdout",
     "output_type": "stream",
     "text": [
      "Collecting scipy\n",
      "  Downloading scipy-1.10.1-cp38-cp38-macosx_10_9_x86_64.whl (35.0 MB)\n",
      "\u001b[K     |████████████████████████████████| 35.0 MB 357 kB/s eta 0:00:01\n",
      "\u001b[?25hRequirement already satisfied: numpy<1.27.0,>=1.19.5 in /Users/xingliyu/opt/anaconda3/lib/python3.8/site-packages (from scipy) (1.22.4)\n",
      "Installing collected packages: scipy\n",
      "Successfully installed scipy-1.10.1\n"
     ]
    }
   ],
   "source": [
    "!pip install scipy"
   ]
  },
  {
   "cell_type": "code",
   "execution_count": 6,
   "metadata": {},
   "outputs": [],
   "source": [
    "with open(\"csn_Fib\", \"rb\") as fp:\n",
    "    b = pkl.load(fp)"
   ]
  },
  {
   "cell_type": "code",
   "execution_count": null,
   "metadata": {},
   "outputs": [],
   "source": []
  },
  {
   "cell_type": "code",
   "execution_count": null,
   "metadata": {},
   "outputs": [],
   "source": []
  },
  {
   "cell_type": "code",
   "execution_count": 11,
   "metadata": {},
   "outputs": [
    {
     "data": {
      "text/plain": [
       "ArrayView([[  3.,   1.,   0., ...,   0.,   0.,   0.],\n",
       "           [176.,  74.,  14., ...,  15.,   2.,  12.],\n",
       "           [ 54.,  11.,  16., ...,  16.,   3.,  36.],\n",
       "           ...,\n",
       "           [  0.,   2.,   0., ...,   0.,   0.,   0.],\n",
       "           [  0.,   5.,   0., ...,   0.,   0.,   0.],\n",
       "           [  6.,  12.,   0., ...,   0.,   0.,   0.]], dtype=float32)"
      ]
     },
     "execution_count": 11,
     "metadata": {},
     "output_type": "execute_result"
    }
   ],
   "source": [
    "adata_Fib_maker_genes.X.transpose()"
   ]
  },
  {
   "cell_type": "code",
   "execution_count": 12,
   "metadata": {},
   "outputs": [
    {
     "data": {
      "text/plain": [
       "(19, 19)"
      ]
     },
     "execution_count": 12,
     "metadata": {},
     "output_type": "execute_result"
    }
   ],
   "source": [
    "corr_Fib = np.corrcoef(X_Fib)\n",
    "corr_Fib.shape"
   ]
  },
  {
   "cell_type": "code",
   "execution_count": 13,
   "metadata": {},
   "outputs": [],
   "source": [
    "# import re\n",
    "# # 'EpCAM' in adata.var.index\n",
    "# r = re.compile(\".*EPCAM\")\n",
    "# newlist = list(filter(r.match, adata.var.index)) # Read Note below\n",
    "# print(newlist)"
   ]
  },
  {
   "cell_type": "code",
   "execution_count": null,
   "metadata": {},
   "outputs": [
    {
     "name": "stdout",
     "output_type": "stream",
     "text": [
      "171 pairs need calculation\n"
     ]
    }
   ],
   "source": [
    "import time\n",
    "start = time.time()\n",
    "csn_Fib = locCSN.csn(X_Fib, dev = True)\n",
    "end = time.time()\n",
    "print(end - start) "
   ]
  },
  {
   "cell_type": "code",
   "execution_count": null,
   "metadata": {},
   "outputs": [],
   "source": [
    "type(csn_Fib) "
   ]
  },
  {
   "cell_type": "code",
   "execution_count": null,
   "metadata": {},
   "outputs": [],
   "source": [
    "# list\n",
    "len(csn_Fib) # 138 cells"
   ]
  },
  {
   "cell_type": "code",
   "execution_count": 9,
   "metadata": {},
   "outputs": [
    {
     "data": {
      "text/plain": [
       "<matplotlib.colorbar.Colorbar at 0x7fc6a0e1f070>"
      ]
     },
     "execution_count": 9,
     "metadata": {},
     "output_type": "execute_result"
    },
    {
     "data": {
      "image/png": "[encoded data removed]",
      "text/plain": [
       "<Figure size 432x288 with 2 Axes>"
      ]
     },
     "metadata": {
      "needs_background": "light"
     },
     "output_type": "display_data"
    }
   ],
   "source": [
    "# Let's see the test statistics for the first cell in DEC\n",
    "plt.imshow(b[0].toarray(), vmin = -6, vmax = 6, cmap = 'coolwarm')\n",
    "plt.title('Fib CSN', fontweight = \"bold\")\n",
    "plt.colorbar()"
   ]
  },
  {
   "cell_type": "code",
   "execution_count": null,
   "metadata": {},
   "outputs": [],
   "source": [
    "sc.pl.heatmap(adata_Fib_maker_genes, adata_Fib_maker_genes.var.index, groupby= \"cluster\", dendrogram = False, swap_axes = True \n",
    "            , cmap='gist_heat', figsize=(12,12))"
   ]
  },
  {
   "cell_type": "code",
   "execution_count": 14,
   "metadata": {
    "id": "yuDNTkyTIAnW"
   },
   "outputs": [
    {
     "data": {
      "image/png": "[encoded data removed]",
      "text/plain": [
       "<Figure size 432x432 with 2 Axes>"
      ]
     },
     "metadata": {
      "needs_background": "light"
     },
     "output_type": "display_data"
    }
   ],
   "source": [
    "from scipy.stats import norm\n",
    "import seaborn as sns\n",
    "\n",
    "# Cutoff at norm(0.95)\n",
    "csn_mat = [(item > norm.ppf(0.95)).astype(int) for item in b]\n",
    "avgcsn_Fib = sum(csn_mat).toarray()/len(csn_mat) + np.transpose(sum(csn_mat).toarray()/len(csn_mat))\n",
    "np.fill_diagonal(avgcsn_Fib, 1)\n",
    "\n",
    "fig, ax = plt.subplots(figsize=(6,6))\n",
    "\n",
    "sns.heatmap(avgcsn_Fib, vmin=0, vmax=0.7,linewidth = 0.5, cmap='Greens')\n",
    "ax.set_yticklabels(all_genes,rotation=1) \n",
    "ax.set_xticklabels(all_genes,rotation=270) \n",
    "plt.savefig('Pearson.png')"
   ]
  }
 ],
 "metadata": {
  "accelerator": "GPU",
  "colab": {
   "provenance": []
  },
  "gpuClass": "standard",
  "kernelspec": {
   "display_name": "Python 3 (ipykernel)",
   "language": "python",
   "name": "python3"
  },
  "language_info": {
   "codemirror_mode": {
    "name": "ipython",
    "version": 3
   },
   "file_extension": ".py",
   "mimetype": "text/x-python",
   "name": "python",
   "nbconvert_exporter": "python",
   "pygments_lexer": "ipython3",
   "version": "3.8.2"
  }
 },
 "nbformat": 4,
 "nbformat_minor": 1
}
